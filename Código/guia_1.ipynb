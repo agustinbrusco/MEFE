{
 "cells": [
  {
   "cell_type": "code",
   "execution_count": 8,
   "metadata": {},
   "outputs": [],
   "source": [
    "import numpy as np\n",
    "np.random.seed(42)\n",
    "from scipy.special import binom, factorial\n",
    "\n",
    "import matplotlib.pyplot as plt\n",
    "import seaborn as sns\n",
    "%config InlineBackend.figure_format = 'retina'\n",
    "plt.rcParams['font.family'] = 'serif'\n",
    "plt.rcParams['mathtext.fontset'] = 'cm'\n",
    "plt.rcParams['figure.dpi'] = 120\n",
    "plt.rcParams['legend.fontsize'] = \"small\"\n",
    "plt.rcParams['axes.labelsize'] = 'large'"
   ]
  },
  {
   "attachments": {},
   "cell_type": "markdown",
   "metadata": {},
   "source": [
    "# $\\text{1}$\n"
   ]
  },
  {
   "cell_type": "code",
   "execution_count": 12,
   "metadata": {},
   "outputs": [
    {
     "name": "stdout",
     "output_type": "stream",
     "text": [
      "a : 387420489\n",
      "b : 213127200\n",
      "c : 296010\n"
     ]
    }
   ],
   "source": [
    "combs = 27**6  # repitiendo y con orden\n",
    "conjuntos = binom(27, 6)  # sin repetir y sin orden\n",
    "secuencias = conjuntos*factorial(6)  # sin repetir y con orden\n",
    "print(f\"a : {combs:.0f}\")\n",
    "print(f\"b : {secuencias:.0f}\")\n",
    "print(f\"c : {conjuntos:.0f}\")"
   ]
  }
 ],
 "metadata": {
  "kernelspec": {
   "display_name": "Python 3",
   "language": "python",
   "name": "python3"
  },
  "language_info": {
   "codemirror_mode": {
    "name": "ipython",
    "version": 3
   },
   "file_extension": ".py",
   "mimetype": "text/x-python",
   "name": "python",
   "nbconvert_exporter": "python",
   "pygments_lexer": "ipython3",
   "version": "3.9.16"
  },
  "orig_nbformat": 4
 },
 "nbformat": 4,
 "nbformat_minor": 2
}
