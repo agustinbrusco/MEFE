{
 "cells": [
  {
   "attachments": {},
   "cell_type": "markdown",
   "metadata": {},
   "source": [
    "# <center> Código Auxiliar Guía 1 </center>"
   ]
  },
  {
   "cell_type": "code",
   "execution_count": 1,
   "metadata": {},
   "outputs": [],
   "source": [
    "import numpy as np\n",
    "np.random.seed(42)\n",
    "from scipy.special import binom, factorial\n",
    "\n",
    "import matplotlib.pyplot as plt\n",
    "import seaborn as sns\n",
    "%config InlineBackend.figure_format = 'retina'\n",
    "plt.rcParams['font.family'] = 'serif'\n",
    "plt.rcParams['mathtext.fontset'] = 'cm'\n",
    "plt.rcParams['figure.dpi'] = 120\n",
    "plt.rcParams['legend.fontsize'] = \"small\"\n",
    "plt.rcParams['axes.labelsize'] = 'large'"
   ]
  },
  {
   "attachments": {},
   "cell_type": "markdown",
   "metadata": {},
   "source": [
    "## $\\text{1.}$ Alfabeto"
   ]
  },
  {
   "cell_type": "code",
   "execution_count": 2,
   "metadata": {},
   "outputs": [
    {
     "name": "stdout",
     "output_type": "stream",
     "text": [
      "a) 387_420_489\n",
      "b) 213_127_200\n",
      "c) 296_010\n"
     ]
    }
   ],
   "source": [
    "combs = 27**6  # repitiendo y con orden\n",
    "conjuntos = binom(27, 6)  # sin repetir y sin orden\n",
    "secuencias = conjuntos*factorial(6)  # sin repetir y con orden\n",
    "print(f\"a) {combs:_.0f}\")\n",
    "print(f\"b) {secuencias:_.0f}\")\n",
    "print(f\"c) {conjuntos:_.0f}\")"
   ]
  },
  {
   "attachments": {},
   "cell_type": "markdown",
   "metadata": {},
   "source": [
    "## $\\text{2.}$ Anagramas"
   ]
  },
  {
   "cell_type": "code",
   "execution_count": 3,
   "metadata": {},
   "outputs": [],
   "source": [
    "def repeticiones_por_letra(s: str) -> dict[str, int]:\n",
    "    letras = set(s)\n",
    "    return {l: s.count(l) for l in letras}\n",
    "\n",
    "def cuantos_anagramas(s: str) -> int:\n",
    "    repeticiones = repeticiones_por_letra(s)\n",
    "    return factorial(len(s)) / np.prod([factorial(v) for v in repeticiones.values()])"
   ]
  },
  {
   "cell_type": "code",
   "execution_count": 4,
   "metadata": {},
   "outputs": [
    {
     "name": "stdout",
     "output_type": "stream",
     "text": [
      "jardines\n",
      "Repeticiones: []\n",
      "Anagramas: 40_320\n",
      "anagrama\n",
      "Repeticiones: ['4a']\n",
      "Anagramas: 1_680\n",
      "amalgama\n",
      "Repeticiones: ['4a', '2m']\n",
      "Anagramas: 840\n"
     ]
    }
   ],
   "source": [
    "palabras = [\"jardines\", \"anagrama\", \"amalgama\"]\n",
    "for palabra in palabras:\n",
    "    rep_dict = repeticiones_por_letra(palabra)\n",
    "    print(f\"{palabra}\\nRepeticiones: {[f'{v}{k}' for k, v in rep_dict.items() if v != 1]}\")\n",
    "    print(f\"Anagramas: {cuantos_anagramas(palabra):_.0f}\")"
   ]
  },
  {
   "attachments": {},
   "cell_type": "markdown",
   "metadata": {},
   "source": [
    "## $\\text{3.}$ Babel"
   ]
  },
  {
   "cell_type": "code",
   "execution_count": 16,
   "metadata": {},
   "outputs": [
    {
     "name": "stdout",
     "output_type": "stream",
     "text": [
      "Caracteres por Libro: 1_312_000\n",
      "Renglones Únicos: 25^80 = 6_842_277_657_836_020_854_119_773_355_907_793_609_766_904_013_068_924_666_782_559_979_930_620_520_927_053_718_196_475_529_111_921_787_261_962_890_625\n",
      "Libros Únicos: 25^1_312_000\n"
     ]
    }
   ],
   "source": [
    "paginas_por_libro = 410\n",
    "renglones_por_pagina = 40\n",
    "letras_por_renglon = 80\n",
    "simbolos_unicos = 25\n",
    "caracteres_por_libro = paginas_por_libro * renglones_por_pagina * letras_por_renglon\n",
    "print(f\"Caracteres por Libro: {caracteres_por_libro:_}\")\n",
    "print(f\"Renglones Únicos: {simbolos_unicos}^{letras_por_renglon:_} = {simbolos_unicos**letras_por_renglon:_}\")\n",
    "print(f\"Libros Únicos: {simbolos_unicos}^{caracteres_por_libro:_}\")"
   ]
  },
  {
   "attachments": {},
   "cell_type": "markdown",
   "metadata": {},
   "source": [
    "## $\\text{4.}$ Monedas\n",
    "$$\\Omega = \\left\\{CCC, CCS, CSC, SCC, SSC, SCS, CSS, SSS\\right\\}$$\n",
    "$\\mathcal{A} = \\left\\{CCS, SCS, CSS, SSS\\right\\}$\n",
    "\n",
    "$\\mathcal{B} = \\left\\{SSS\\right\\}$\n",
    "\n",
    "$\\mathcal{C} = \\left\\{CCC\\right\\}$\n",
    "\n",
    "$\\mathcal{D} = \\left\\{CSC, CSS, SCC, SCS\\right\\}$\n",
    "\n",
    "$\\mathcal{E} = \\left\\{SCS, SCC, CSS, CSC\\right\\}$\n",
    "\n",
    "$\\mathcal{F} = \\left\\{CCC, CCS, CSC, SCC, SSC, SCS, CSS\\right\\}$\n",
    "\n",
    "$\\mathcal{G} = \\left\\{CCC, SSC, SCS, CSS\\right\\}$\n",
    "\n",
    "$\\mathcal{H} = \\left\\{SSC, SCS, CSS\\right\\}$\n",
    "\n",
    "$\\mathcal{I} = \\left\\{CSS, CSC, SCC\\right\\}$\n"
   ]
  },
  {
   "attachments": {},
   "cell_type": "markdown",
   "metadata": {},
   "source": [
    "## $\\text{7.}$ Cartas"
   ]
  },
  {
   "cell_type": "code",
   "execution_count": 10,
   "metadata": {},
   "outputs": [
    {
     "name": "stdout",
     "output_type": "stream",
     "text": [
      "positivos: 78\n",
      "total: 1560\n",
      "P: 0.05\n"
     ]
    }
   ],
   "source": [
    "# a) un mazo\n",
    "casos = []\n",
    "for carta_1 in range(40):\n",
    "    for carta_2 in range(40):\n",
    "        if carta_1 != carta_2:\n",
    "            casos.append(1 in (carta_1, carta_2))\n",
    "print(f\"positivos: {sum(casos)}\")\n",
    "print(f\"total: {len(casos)}\")\n",
    "print(f\"P: {sum(casos)/len(casos)}\")"
   ]
  },
  {
   "cell_type": "code",
   "execution_count": 11,
   "metadata": {},
   "outputs": [
    {
     "name": "stdout",
     "output_type": "stream",
     "text": [
      "positivos: 79\n",
      "total: 1600\n",
      "P: 0.049375\n"
     ]
    }
   ],
   "source": [
    "# b) dos mazos separados\n",
    "casos = []\n",
    "for carta_1 in range(40):\n",
    "    for carta_2 in range(40):\n",
    "        casos.append(1 in (carta_1, carta_2))\n",
    "print(f\"positivos: {sum(casos)}\")\n",
    "print(f\"total: {len(casos)}\")\n",
    "print(f\"P: {sum(casos)/len(casos)}\")"
   ]
  },
  {
   "cell_type": "code",
   "execution_count": 12,
   "metadata": {},
   "outputs": [
    {
     "name": "stdout",
     "output_type": "stream",
     "text": [
      "positivos: 314\n",
      "total: 6320\n",
      "P: 0.04968354430379747\n"
     ]
    }
   ],
   "source": [
    "# c) dos mazos mezclados\n",
    "casos = []\n",
    "for carta_1 in range(80):\n",
    "    for carta_2 in range(80):\n",
    "        if carta_1 != carta_2:\n",
    "            casos.append(1 in (carta_1, carta_2) or 2 in (carta_1, carta_2))\n",
    "print(f\"positivos: {sum(casos)}\")\n",
    "print(f\"total: {len(casos)}\")\n",
    "print(f\"P: {sum(casos)/len(casos)}\")"
   ]
  },
  {
   "attachments": {},
   "cell_type": "markdown",
   "metadata": {},
   "source": [
    "## $\\text{8.}$ Consecutivos"
   ]
  },
  {
   "cell_type": "code",
   "execution_count": 13,
   "metadata": {},
   "outputs": [
    {
     "name": "stdout",
     "output_type": "stream",
     "text": [
      "positivos: 198\n",
      "total: 9900\n",
      "P: 0.02\n"
     ]
    }
   ],
   "source": [
    "# a) sin reposición\n",
    "casos = []\n",
    "for n in range(1, 100+1):\n",
    "    for m in range(1, 100+1):\n",
    "        if n != m:\n",
    "            casos.append((n == m + 1) or (n == m - 1))\n",
    "print(f\"positivos: {sum(casos)}\")\n",
    "print(f\"total: {len(casos)}\")\n",
    "print(f\"P: {sum(casos)/len(casos)}\")"
   ]
  },
  {
   "cell_type": "code",
   "execution_count": 14,
   "metadata": {},
   "outputs": [
    {
     "name": "stdout",
     "output_type": "stream",
     "text": [
      "positivos: 198\n",
      "total: 10000\n",
      "P: 0.0198\n"
     ]
    }
   ],
   "source": [
    "# b) con reposición\n",
    "casos = []\n",
    "for n in range(1, 100+1):\n",
    "    for m in range(1, 100+1):\n",
    "        casos.append((n == m + 1) or (n == m - 1))\n",
    "print(f\"positivos: {sum(casos)}\")\n",
    "print(f\"total: {len(casos)}\")\n",
    "print(f\"P: {sum(casos)/len(casos)}\")"
   ]
  },
  {
   "attachments": {},
   "cell_type": "markdown",
   "metadata": {},
   "source": [
    "## $\\text{9.}$ Dos Dados"
   ]
  },
  {
   "cell_type": "code",
   "execution_count": 16,
   "metadata": {},
   "outputs": [
    {
     "name": "stdout",
     "output_type": "stream",
     "text": [
      "positivos: 25\n",
      "total: 36\n",
      "P: 0.6944444444444444\n"
     ]
    }
   ],
   "source": [
    "# a) ningún as\n",
    "casos = []\n",
    "for dado_1 in range(1, 6+1):\n",
    "    for dado_2 in range(1, 6+1):\n",
    "        casos.append((dado_1 != 1) and (dado_2 != 1))\n",
    "print(f\"positivos: {sum(casos)}\")\n",
    "print(f\"total: {len(casos)}\")\n",
    "print(f\"P: {sum(casos)/len(casos)}\")"
   ]
  },
  {
   "cell_type": "code",
   "execution_count": 27,
   "metadata": {},
   "outputs": [
    {
     "name": "stdout",
     "output_type": "stream",
     "text": [
      "positivos: 16\n",
      "total: 36\n",
      "P: 0.4444444444444444\n"
     ]
    }
   ],
   "source": [
    "# a) ningún as y ningún 6\n",
    "casos = []\n",
    "for dado_1 in range(1, 6+1):\n",
    "    for dado_2 in range(1, 6+1):\n",
    "        casos.append((dado_1 not in (1, 6)) and (dado_2 not in (1, 6)))\n",
    "print(f\"positivos: {sum(casos)}\")\n",
    "print(f\"total: {len(casos)}\")\n",
    "print(f\"P: {sum(casos)/len(casos)}\")"
   ]
  }
 ],
 "metadata": {
  "kernelspec": {
   "display_name": "Python 3",
   "language": "python",
   "name": "python3"
  },
  "language_info": {
   "codemirror_mode": {
    "name": "ipython",
    "version": 3
   },
   "file_extension": ".py",
   "mimetype": "text/x-python",
   "name": "python",
   "nbconvert_exporter": "python",
   "pygments_lexer": "ipython3",
   "version": "3.9.16"
  },
  "orig_nbformat": 4
 },
 "nbformat": 4,
 "nbformat_minor": 2
}
